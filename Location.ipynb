{
 "cells": [
  {
   "cell_type": "code",
   "execution_count": 1,
   "metadata": {},
   "outputs": [],
   "source": [
    "import json\n",
    "import csv\n",
    "from pprint import pprint\n",
    "import pandas as pd\n",
    "import numpy as np\n",
    "from pandas.io.json import json_normalize"
   ]
  },
  {
   "cell_type": "code",
   "execution_count": 2,
   "metadata": {},
   "outputs": [],
   "source": [
    "path = '/Users/stylshreyeshi/Desktop/location.json'\n",
    "with open(path) as f:\n",
    "    data = json.load(f)"
   ]
  },
  {
   "cell_type": "code",
   "execution_count": 3,
   "metadata": {},
   "outputs": [
    {
     "data": {
      "text/html": [
       "<div>\n",
       "<style scoped>\n",
       "    .dataframe tbody tr th:only-of-type {\n",
       "        vertical-align: middle;\n",
       "    }\n",
       "\n",
       "    .dataframe tbody tr th {\n",
       "        vertical-align: top;\n",
       "    }\n",
       "\n",
       "    .dataframe thead th {\n",
       "        text-align: right;\n",
       "    }\n",
       "</style>\n",
       "<table border=\"1\" class=\"dataframe\">\n",
       "  <thead>\n",
       "    <tr style=\"text-align: right;\">\n",
       "      <th></th>\n",
       "      <th>locations</th>\n",
       "    </tr>\n",
       "  </thead>\n",
       "  <tbody>\n",
       "    <tr>\n",
       "      <th>0</th>\n",
       "      <td>{'timestampMs': '1543320317919', 'latitudeE7':...</td>\n",
       "    </tr>\n",
       "    <tr>\n",
       "      <th>1</th>\n",
       "      <td>{'timestampMs': '1543319700075', 'latitudeE7':...</td>\n",
       "    </tr>\n",
       "    <tr>\n",
       "      <th>2</th>\n",
       "      <td>{'timestampMs': '1543319641689', 'latitudeE7':...</td>\n",
       "    </tr>\n",
       "    <tr>\n",
       "      <th>3</th>\n",
       "      <td>{'timestampMs': '1543319100119', 'latitudeE7':...</td>\n",
       "    </tr>\n",
       "    <tr>\n",
       "      <th>4</th>\n",
       "      <td>{'timestampMs': '1543318465263', 'latitudeE7':...</td>\n",
       "    </tr>\n",
       "  </tbody>\n",
       "</table>\n",
       "</div>"
      ],
      "text/plain": [
       "                                           locations\n",
       "0  {'timestampMs': '1543320317919', 'latitudeE7':...\n",
       "1  {'timestampMs': '1543319700075', 'latitudeE7':...\n",
       "2  {'timestampMs': '1543319641689', 'latitudeE7':...\n",
       "3  {'timestampMs': '1543319100119', 'latitudeE7':...\n",
       "4  {'timestampMs': '1543318465263', 'latitudeE7':..."
      ]
     },
     "execution_count": 3,
     "metadata": {},
     "output_type": "execute_result"
    }
   ],
   "source": [
    "df = pd.DataFrame.from_dict(data, orient='columns')\n",
    "df.head()"
   ]
  },
  {
   "cell_type": "code",
   "execution_count": null,
   "metadata": {},
   "outputs": [],
   "source": [
    "df = pd.read_json((df['locations']).to_json(), orient='index')\n",
    "df.head()"
   ]
  },
  {
   "cell_type": "code",
   "execution_count": null,
   "metadata": {},
   "outputs": [],
   "source": [
    "df['activity'].fillna(value='-',inplace=True)\n",
    "df['activity'] = df['activity'].apply(lambda x: \"\".join(map(str,x)) )"
   ]
  },
  {
   "cell_type": "code",
   "execution_count": null,
   "metadata": {},
   "outputs": [],
   "source": [
    "df['activity_timestampMs'] = df['activity'].apply(lambda x: x[x.find('timestampMs')+15:30])\n",
    "df['activity_data'] = df['activity'].apply(lambda x: x[x.find('activity')+22:x.find('confidence')-4])\n",
    "df['confidence'] = df['activity'].apply(lambda x: x[x.find('confidence')+13:x.find('}')])\n",
    "df.head()"
   ]
  },
  {
   "cell_type": "code",
   "execution_count": null,
   "metadata": {},
   "outputs": [],
   "source": [
    "from datetime import datetime\n",
    "df['activity_timestampMs'] = np.where(df['activity_timestampMs']=='',0,pd.to_numeric(df['activity_timestampMs']))\n",
    "df['activity_timestampMs'] = df['activity_timestampMs'].apply(lambda x: datetime.utcfromtimestamp(int(x/1000)).strftime('%Y-%m-%d %H:%M:%S'))"
   ]
  },
  {
   "cell_type": "code",
   "execution_count": null,
   "metadata": {},
   "outputs": [],
   "source": [
    "df['latitudeE7'] = df['latitudeE7'].apply(lambda x: int(x)/10000000)\n",
    "df['longitudeE7'] = df['longitudeE7'].apply(lambda x: int(x)/10000000)"
   ]
  },
  {
   "cell_type": "code",
   "execution_count": null,
   "metadata": {},
   "outputs": [],
   "source": [
    "import geopandas as gpd\n",
    "import matplotlib.pyplot as plt\n",
    "import descartes\n",
    "from shapely.geometry import Point, polygon\n",
    "%matplotlib inline\n",
    "gdf = gpd.GeoDataFrame(df, geometry=gpd.points_from_xy(df.longitudeE7, df.latitudeE7))\n",
    "gdf.head()"
   ]
  },
  {
   "cell_type": "code",
   "execution_count": null,
   "metadata": {},
   "outputs": [],
   "source": [
    "world = gpd.read_file(gpd.datasets.get_path('naturalearth_lowres'))\n",
    "ax = world.plot(color='white', edgecolor='black', figsize=(15,10))\n",
    "gdf.plot(ax=ax, color='red')\n",
    "plt.show()"
   ]
  },
  {
   "cell_type": "code",
   "execution_count": null,
   "metadata": {},
   "outputs": [],
   "source": [
    "import folium\n",
    "from folium import plugins\n",
    "import matplotlib.pyplot as plt\n",
    "import seaborn as sns\n",
    "%matplotlib inline"
   ]
  },
  {
   "cell_type": "code",
   "execution_count": null,
   "metadata": {
    "scrolled": false
   },
   "outputs": [],
   "source": [
    "m = folium.Map([28.48, 77.07], zoom_start=12)\n",
    "df1 = df[(df['timestampMs'].dt.year==2018) & (df['timestampMs'].dt.month==4) & (df['timestampMs'].dt.day<6)]\n",
    "for index, row in df1.iterrows():\n",
    "    folium.CircleMarker([row['latitudeE7'], row['longitudeE7']],\n",
    "                        radius=0.0001,\n",
    "                        fill_color=\"#3db7e4\", # divvy color\n",
    "                       ).add_to(m)\n",
    "point_ = df1[['latitudeE7', 'longitudeE7']].as_matrix()\n",
    "m.add_child(plugins.HeatMap(point_, radius=15))\n",
    "m"
   ]
  },
  {
   "cell_type": "code",
   "execution_count": null,
   "metadata": {},
   "outputs": [],
   "source": [
    "df.head()"
   ]
  },
  {
   "cell_type": "code",
   "execution_count": null,
   "metadata": {},
   "outputs": [],
   "source": [
    "import reverse_geocoder as rg \n",
    "\n",
    "def reverseGeocode(coordinates): \n",
    "    result = ((rg.search(coordinates))[0])['name'] \n",
    "    z = result[0]\n",
    "    return (z['name'])"
   ]
  },
  {
   "cell_type": "code",
   "execution_count": null,
   "metadata": {},
   "outputs": [],
   "source": [
    "df2 = df.copy()"
   ]
  },
  {
   "cell_type": "code",
   "execution_count": null,
   "metadata": {},
   "outputs": [],
   "source": [
    "#Working on df copy df2\n",
    "df2['coordinates'] = list(zip(df2.latitudeE7, df2.longitudeE7))"
   ]
  },
  {
   "cell_type": "code",
   "execution_count": null,
   "metadata": {},
   "outputs": [],
   "source": [
    "df2 = df2.sa\n",
    "df2['City'] = df2['coordinates'].apply(lambda x: ((rg.search(coordinates))[0])['name'])"
   ]
  }
 ],
 "metadata": {
  "kernelspec": {
   "display_name": "Python 3",
   "language": "python",
   "name": "python3"
  },
  "language_info": {
   "codemirror_mode": {
    "name": "ipython",
    "version": 3
   },
   "file_extension": ".py",
   "mimetype": "text/x-python",
   "name": "python",
   "nbconvert_exporter": "python",
   "pygments_lexer": "ipython3",
   "version": "3.7.3"
  }
 },
 "nbformat": 4,
 "nbformat_minor": 2
}
